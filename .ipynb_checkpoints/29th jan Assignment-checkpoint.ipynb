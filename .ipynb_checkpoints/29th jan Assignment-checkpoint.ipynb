{
 "cells": [
  {
   "cell_type": "code",
   "execution_count": 1,
   "id": "96c0fe3b",
   "metadata": {},
   "outputs": [],
   "source": [
    "# q1-Python was developed by Guido van Rossum."
   ]
  },
  {
   "cell_type": "code",
   "execution_count": 2,
   "id": "69bb85ea",
   "metadata": {},
   "outputs": [],
   "source": [
    "# q2-Imperative Programming,Functional Programming,Scripting,Dynamic Programming,Metaprogramming\n",
    "#Procedural Programming,Object-Oriented Programming (OOP),Aspect-Oriented Programming (AOP),\n",
    "#Event-Driven Programming,Concurrent and Parallel Programming,Web Development,Data Science and Scientific Computing\n"
   ]
  },
  {
   "cell_type": "code",
   "execution_count": 3,
   "id": "6b35a1cb",
   "metadata": {},
   "outputs": [],
   "source": [
    "# q3 yes"
   ]
  },
  {
   "cell_type": "code",
   "execution_count": 4,
   "id": "759fc935",
   "metadata": {},
   "outputs": [],
   "source": [
    "# q4 .py"
   ]
  },
  {
   "cell_type": "code",
   "execution_count": 5,
   "id": "a3df156d",
   "metadata": {},
   "outputs": [],
   "source": [
    "#q5 Python is typically considered an interpreted language. However, \n",
    "#the process of how Python code is executed \n",
    "#involves both compilation and interpretation. "
   ]
  },
  {
   "cell_type": "markdown",
   "id": "3c34e91e",
   "metadata": {},
   "source": [
    "## question 6"
   ]
  },
  {
   "cell_type": "code",
   "execution_count": 6,
   "id": "95a5e7db",
   "metadata": {},
   "outputs": [
    {
     "ename": "SyntaxError",
     "evalue": "incomplete input (2633198502.py, line 2)",
     "output_type": "error",
     "traceback": [
      "\u001b[1;36m  Cell \u001b[1;32mIn[6], line 2\u001b[1;36m\u001b[0m\n\u001b[1;33m    # Code inside the function\u001b[0m\n\u001b[1;37m                              ^\u001b[0m\n\u001b[1;31mSyntaxError\u001b[0m\u001b[1;31m:\u001b[0m incomplete input\n"
     ]
    }
   ],
   "source": [
    "def my_function():\n",
    "    # Code inside the function\n"
   ]
  },
  {
   "cell_type": "code",
   "execution_count": 7,
   "id": "603245bf",
   "metadata": {},
   "outputs": [
    {
     "ename": "IndentationError",
     "evalue": "expected an indented block after 'if' statement on line 1 (2472793951.py, line 3)",
     "output_type": "error",
     "traceback": [
      "\u001b[1;36m  Cell \u001b[1;32mIn[7], line 3\u001b[1;36m\u001b[0m\n\u001b[1;33m    else:\u001b[0m\n\u001b[1;37m    ^\u001b[0m\n\u001b[1;31mIndentationError\u001b[0m\u001b[1;31m:\u001b[0m expected an indented block after 'if' statement on line 1\n"
     ]
    }
   ],
   "source": [
    "if condition:\n",
    "    # Code to execute if the condition is True\n",
    "else:\n",
    "    # Code to execute if the condition is False\n"
   ]
  },
  {
   "cell_type": "code",
   "execution_count": 8,
   "id": "db56993c",
   "metadata": {},
   "outputs": [
    {
     "ename": "SyntaxError",
     "evalue": "incomplete input (687106947.py, line 2)",
     "output_type": "error",
     "traceback": [
      "\u001b[1;36m  Cell \u001b[1;32mIn[8], line 2\u001b[1;36m\u001b[0m\n\u001b[1;33m    # Code to execute in each iteration\u001b[0m\n\u001b[1;37m                                       ^\u001b[0m\n\u001b[1;31mSyntaxError\u001b[0m\u001b[1;31m:\u001b[0m incomplete input\n"
     ]
    }
   ],
   "source": [
    "for item in iterable:\n",
    "    # Code to execute in each iteration\n"
   ]
  },
  {
   "cell_type": "code",
   "execution_count": 9,
   "id": "94dfe7fd",
   "metadata": {},
   "outputs": [
    {
     "ename": "SyntaxError",
     "evalue": "incomplete input (1734714261.py, line 2)",
     "output_type": "error",
     "traceback": [
      "\u001b[1;36m  Cell \u001b[1;32mIn[9], line 2\u001b[1;36m\u001b[0m\n\u001b[1;33m    # Code to execute as long as the condition is True\u001b[0m\n\u001b[1;37m                                                      ^\u001b[0m\n\u001b[1;31mSyntaxError\u001b[0m\u001b[1;31m:\u001b[0m incomplete input\n"
     ]
    }
   ],
   "source": [
    "while condition:\n",
    "    # Code to execute as long as the condition is True\n"
   ]
  },
  {
   "cell_type": "code",
   "execution_count": 10,
   "id": "bec87a97",
   "metadata": {},
   "outputs": [
    {
     "ename": "SyntaxError",
     "evalue": "incomplete input (3728188618.py, line 2)",
     "output_type": "error",
     "traceback": [
      "\u001b[1;36m  Cell \u001b[1;32mIn[10], line 2\u001b[1;36m\u001b[0m\n\u001b[1;33m    # Code defining the class and its methods\u001b[0m\n\u001b[1;37m                                             ^\u001b[0m\n\u001b[1;31mSyntaxError\u001b[0m\u001b[1;31m:\u001b[0m incomplete input\n"
     ]
    }
   ],
   "source": [
    "class MyClass:\n",
    "    # Code defining the class and its methods\n"
   ]
  },
  {
   "cell_type": "code",
   "execution_count": 11,
   "id": "5db6ef2f",
   "metadata": {},
   "outputs": [
    {
     "ename": "IndentationError",
     "evalue": "expected an indented block after 'try' statement on line 1 (3588478716.py, line 3)",
     "output_type": "error",
     "traceback": [
      "\u001b[1;36m  Cell \u001b[1;32mIn[11], line 3\u001b[1;36m\u001b[0m\n\u001b[1;33m    except SomeException:\u001b[0m\n\u001b[1;37m    ^\u001b[0m\n\u001b[1;31mIndentationError\u001b[0m\u001b[1;31m:\u001b[0m expected an indented block after 'try' statement on line 1\n"
     ]
    }
   ],
   "source": [
    "try:\n",
    "    # Code that might raise an exception\n",
    "except SomeException:\n",
    "    # Code to handle the exception\n"
   ]
  },
  {
   "cell_type": "code",
   "execution_count": 12,
   "id": "0d3ebccd",
   "metadata": {},
   "outputs": [],
   "source": [
    "# q7-# This is a single-line comment\n"
   ]
  },
  {
   "cell_type": "code",
   "execution_count": 13,
   "id": "61eaea6e",
   "metadata": {},
   "outputs": [],
   "source": [
    "# q8 - -   python --version\n",
    "#  - - -     python -V\n",
    "\n"
   ]
  },
  {
   "cell_type": "code",
   "execution_count": 14,
   "id": "5a4b2955",
   "metadata": {},
   "outputs": [],
   "source": [
    "# q9---  lambada"
   ]
  },
  {
   "cell_type": "code",
   "execution_count": 15,
   "id": "4cc2452e",
   "metadata": {},
   "outputs": [],
   "source": [
    "# q10--- PIP stands for \"Pip Installs Packages\" "
   ]
  },
  {
   "cell_type": "code",
   "execution_count": 16,
   "id": "87f024c6",
   "metadata": {},
   "outputs": [],
   "source": [
    "# # q11--- Python provides a wide range of built-in functions that are readily available for you to use without the need to import any external libraries. Here are some common built-in functions in Python:\n",
    "\n",
    "# print(): Used to display text or variables to the console.\n",
    "\n",
    "# len(): Returns the length (number of elements) of an iterable like a list, string, or tuple.\n",
    "\n",
    "# input(): Reads a line of text from the user via the console.\n",
    "\n",
    "# int(), float(), str(), list(), tuple(), dict(): Functions for data type conversion.\n",
    "\n",
    "# range(): Generates a sequence of numbers.\n",
    "\n",
    "# max() and min(): Find the maximum and minimum values in an iterable.\n",
    "\n",
    "# sum(): Calculates the sum of all elements in an iterable.\n",
    "\n",
    "# abs(): Returns the absolute value of a number.\n",
    "\n",
    "# round(): Rounds a floating-point number to the nearest integer.\n",
    "\n",
    "# sorted(): Returns a sorted list from an iterable.\n",
    "\n",
    "# enumerate(): Provides both the index and value while iterating over an iterable.\n",
    "\n",
    "# zip(): Combines multiple iterables into tuples.\n",
    "\n",
    "# map(): Applies a function to all items in an iterable.\n",
    "\n",
    "# filter(): Filters items in an iterable based on a function.\n",
    "\n",
    "# any() and all(): Check if any or all elements in an iterable are True.\n",
    "\n",
    "# type(): Returns the type of an object.\n",
    "\n",
    "# help() and dir(): Get information about modules, classes, or functions.\n",
    "\n",
    "# open(): Opens files for reading or writing.\n",
    "\n",
    "# str(): Converts an object to a string.\n",
    "\n",
    "# callable(): Checks if an object is callable (e.g., a function or method).\n",
    "\n",
    "# These are just a few examples of the many built-in functions available in Python. Python's \n",
    "# extensive standard library provides a rich set of tools to work with various data types and perform various operations."
   ]
  },
  {
   "cell_type": "code",
   "execution_count": 17,
   "id": "0b571ed1",
   "metadata": {},
   "outputs": [],
   "source": [
    "## q12-- 255 chars"
   ]
  },
  {
   "cell_type": "code",
   "execution_count": 18,
   "id": "59321bfe",
   "metadata": {},
   "outputs": [],
   "source": [
    "# ## q13--- Python is a versatile and widely-used programming language known for its simplicity, readability, and extensive libraries and frameworks. Here are some of the key benefits of using Python:\n",
    "\n",
    "# Ease of Learning and Readability:- Python's syntax is designed to be easy to read and write, making it an excellent choice for beginners. It emphasizes code readability, which reduces the cost of program maintenance.\n",
    "\n",
    "# Large Standard Library:- Python comes with a comprehensive standard library that covers a wide range of tasks, from working with data structures to web development, networking, and more. This extensive library reduces the need for writing code from scratch.\n",
    "\n",
    "# Cross-Platform Compatibility: -Python is available on various platforms (Windows, macOS, Linux) and is highly portable, allowing developers to write code that runs consistently across different systems.\n",
    "\n",
    "# Community and Support: --Python has a large and active community of developers and users. This means there is a wealth of resources, documentation, and third-party packages available to help you with your projects.\n",
    "\n",
    "# Extensibility and Integration:-- Python can easily integrate with other programming languages like C, C++, and Java, making it a valuable choice for building complex applications or adding scripting capabilities to existing software.\n",
    "\n",
    "# Data Science and Machine Learning:-- Python has become the de facto language for data science and machine learning due to libraries like NumPy, pandas, matplotlib, scikit-learn, TensorFlow, and PyTorch. Its simplicity and ease of use make it a popular choice for data analysis and modeling.\n",
    "\n",
    "# Web Development:-- Frameworks like Django and Flask simplify web development in Python. They provide tools and abstractions for building robust and scalable web applications.\n",
    "\n",
    "# Automation:-- Python is excellent for automating repetitive tasks, system administration, and scripting. It can be used to create scripts that interact with files, databases, APIs, and more.\n",
    "\n",
    "# Versatility:-- Python can be used for a wide range of applications, from web development and data analysis to scientific computing, automation, game development, and more.\n",
    "\n",
    "# Open Source:-- Python is open source, meaning it is free to use and distribute. This lowers the barrier to entry for developers and encourages collaboration.\n",
    "\n",
    "# Strong Industry Adoption:-- Python is widely used in industries such as web development, finance, scientific research, data analysis, artificial intelligence, and more, making it a valuable skill for career opportunities.\n",
    "\n",
    "# Rapid Development:-- Python's simplicity and high-level abstractions allow developers to create prototypes and implement solutions quickly, which can lead to faster development cycles.\n",
    "\n",
    "# Excellent for Teaching:-- Python's clean and readable syntax makes it an ideal language for teaching programming to beginners and students.\n",
    "\n",
    "# While Python has many advantages, it may not be the best choice for all use cases. Its interpreted nature can make it slower than compiled languages for certain tasks, and it may not be the best choice for low-level system programming.\n",
    "# However, for most general-purpose programming tasks, Python is a powerful and versatile language with a wide range of benefits."
   ]
  },
  {
   "cell_type": "code",
   "execution_count": 19,
   "id": "b43adbf0",
   "metadata": {},
   "outputs": [],
   "source": [
    "## q14 --- Here's how memory management works in Python:Reference Counting,Garbage Collection,Memory Pools\n",
    "#Memory Optimizations,Memory Management Functions\n",
    "\n"
   ]
  },
  {
   "cell_type": "code",
   "execution_count": 20,
   "id": "d56fb57b",
   "metadata": {},
   "outputs": [],
   "source": [
    "## q15\n",
    "#    Download Python\n",
    "#(https://www.python.org/downloads/windows/) \n",
    "# cheak and tik for add to pathh"
   ]
  },
  {
   "cell_type": "code",
   "execution_count": 21,
   "id": "0c5e0153",
   "metadata": {},
   "outputs": [],
   "source": [
    "## q16 yes"
   ]
  },
  {
   "cell_type": "code",
   "execution_count": 22,
   "id": "df26da9a",
   "metadata": {},
   "outputs": [
    {
     "name": "stdout",
     "output_type": "stream",
     "text": [
      "Initialized empty Git repository in C:/Users/Anil Kumar/Desktop/Julypython/.git/\n"
     ]
    }
   ],
   "source": [
    "!git init"
   ]
  },
  {
   "cell_type": "code",
   "execution_count": null,
   "id": "40dfc1a0",
   "metadata": {},
   "outputs": [],
   "source": []
  }
 ],
 "metadata": {
  "kernelspec": {
   "display_name": "Python 3 (ipykernel)",
   "language": "python",
   "name": "python3"
  },
  "language_info": {
   "codemirror_mode": {
    "name": "ipython",
    "version": 3
   },
   "file_extension": ".py",
   "mimetype": "text/x-python",
   "name": "python",
   "nbconvert_exporter": "python",
   "pygments_lexer": "ipython3",
   "version": "3.11.2"
  }
 },
 "nbformat": 4,
 "nbformat_minor": 5
}
